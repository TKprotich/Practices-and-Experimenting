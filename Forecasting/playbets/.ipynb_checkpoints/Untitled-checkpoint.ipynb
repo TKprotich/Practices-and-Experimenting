{
 "cells": [
  {
   "cell_type": "code",
   "execution_count": 1,
   "metadata": {},
   "outputs": [],
   "source": [
    "import pandas as pd\n",
    "from requests import get\n",
    "from bs4 import BeautifulSoup\n",
    "from selenium import webdriver\n",
    "from selenium.webdriver.common.keys import Keys"
   ]
  },
  {
   "cell_type": "code",
   "execution_count": 2,
   "metadata": {},
   "outputs": [],
   "source": [
    "import time"
   ]
  },
  {
   "cell_type": "code",
   "execution_count": 3,
   "metadata": {},
   "outputs": [],
   "source": [
    "def gamequery(soccer_containers):\n",
    "    gamedict = {}\n",
    "    for i in range(len(soccer_containers)):\n",
    "        leagueinfo = soccer_containers[i].find_all('div', class_ = \"teams-info-meta-left\")[0].text.strip().split(\"                         - \")\n",
    "        timeinfo = soccer_containers[i].find_all('div', class_ = 'teams-info-meta-right')\n",
    "        timeinfo = timeinfo[0].text.strip().split(\"                          \\n                          -                          \\n                        \")\n",
    "        teaminfo = soccer_containers[i].find_all('div', class_ = 'teams-info-vert-top__live-team uppercase')\n",
    "        scoresinfo = soccer_containers[i].find_all('div', class_ = \"teams-info-vert-top__live-score text-center\")\n",
    "        hometeamscore = scoresinfo[0].text.strip()\n",
    "        awayteamscore = scoresinfo[1].text.strip()\n",
    "        typeleague = leagueinfo[0]\n",
    "        league = leagueinfo[-1]\n",
    "        hometeam = teaminfo[0].text.strip()\n",
    "        awayteam = teaminfo[1].text.strip()\n",
    "        # Odds\n",
    "        oddsinfo = soccer_containers[i].find_all('div', class_ = \"odds__container num3\")\n",
    "\n",
    "        newdict = { i+1: {'typeleague': typeleague,\n",
    "                   'league': league,\n",
    "                   'Session': timeinfo[0],\n",
    "                   'time' :timeinfo[1],\n",
    "                   'hometeam' : hometeam,\n",
    "                   'awayteam': awayteam,\n",
    "                   'hometeamscore': hometeamscore,\n",
    "                   'awayteamscore' : awayteamscore,\n",
    "    #                 'Betting': float(awayteamscore)- float(hometeamscore)\n",
    "                         }}\n",
    "        gamedict.update(newdict)\n",
    "    return gamedict"
   ]
  },
  {
   "cell_type": "code",
   "execution_count": 4,
   "metadata": {},
   "outputs": [],
   "source": [
    "def find02(fh):\n",
    "    fh1 = fh[fh.hometeamscore >= 2]\n",
    "    fh2 = fh1[fh.awayteamscore == 0]\n",
    "    if fh2.empty:\n",
    "        return \"None\"\n",
    "    else:\n",
    "        return fh2"
   ]
  },
  {
   "cell_type": "code",
   "execution_count": 5,
   "metadata": {},
   "outputs": [],
   "source": [
    "def find12(fh):\n",
    "    fh1 = fh[fh.hometeamscore == 1]\n",
    "    fh2 = fh1[fh.awayteamscore == 2]\n",
    "    if fh2.empty:\n",
    "        return \"None\"\n",
    "    else:\n",
    "        return fh2"
   ]
  },
  {
   "cell_type": "code",
   "execution_count": 6,
   "metadata": {},
   "outputs": [],
   "source": [
    "# def main():\n",
    "#     driver = webdriver.Chrome()\n",
    "#     while True:\n",
    "#         url = \"https://www.betika.com/lite/live?ck=1\"\n",
    "#         driver.implicitly_wait(30)\n",
    "#         driver.get(url)\n",
    "#         driver\n",
    "# #         soup = BeautifulSoup(res.content,'lxml')\n",
    "#         soup = BeautifulSoup(driver.page_source, 'lxml')\n",
    "#         soccer_containers = soup.find_all('div', class_=\"game highlights--item\")\n",
    "#         gamedict = gamequery(soccer_containers)\n",
    "#         df = pd.DataFrame(gamedict)\n",
    "#         fh = df.T.replace(\"-\", 0)\n",
    "#         fh['awayteamscore'] = fh.awayteamscore.astype(int)\n",
    "#         fh['hometeamscore'] = fh.hometeamscore.astype(int)\n",
    "#         print(df.T)\n",
    "#         print(find12(fh))\n",
    "#         print(find02(fh))\n",
    "#         time.sleep(60*3) \n",
    "# if __name__ == \"__main__\":\n",
    "#     main()"
   ]
  },
  {
   "cell_type": "code",
   "execution_count": 7,
   "metadata": {},
   "outputs": [],
   "source": [
    "# def main2():\n",
    "#     driver = webdriver.Chrome(r\"C:\\chromedriver_win32\\chromedriver.exe\")\n",
    "#     url = \"https://www.betika.com/lite/login\"\n",
    "#     driver.implicitly_wait(30)\n",
    "#     driver.get(url)\n",
    "# #     driver.find_element_by_xpath(\"//a[data-di-id='di-id-23d010d3-ebc66979']\")\n",
    "# #     driver.implicitly_wait(3)\n",
    "#     driver.find_element_by_xpath(\"//a[@data-di-id='di-id-23d010d3-ebc66979']\")\n",
    "#     mobile = driver.find_element_by_xpath(\"//input[@data-di-id='di-id-96aee9ec-7d9bf6a7']\")\n",
    "#     mobile.send_keys(\"0713166362\")\n",
    "#     driver.find_element_by_name(\"password\").send_keys(\"27973762\")\n",
    "#     login = driver.find_element_by_xpath(\"//button[@data-di-id='di-id-d689f338-4d86be02']\")\n",
    "#     login.click()\n",
    "#     soup = BeautifulSoup(driver.page_source, 'lxml')\n",
    "#     while True:\n",
    "#         try:\n",
    "#             soccer_containers = soup.find_all('div', class_=\"game highlights--item\")\n",
    "#             gamedict = gamequery(soccer_containers)\n",
    "#             df = pd.DataFrame(gamedict)\n",
    "#             fh = df.T.replace(\"-\", 0)\n",
    "#     #         fh['awayteamscore'] = fh.awayteamscore.astype(int)\n",
    "#     #         fh['hometeamscore'] = fh.hometeamscore.astype(int)\n",
    "#             print(soccer_containers)\n",
    "#     #         print(find12(fh))\n",
    "#     #         print(find02(fh))\n",
    "#     #         time.sleep(60*3)\n",
    "#         except:\n",
    "#             driver.quit()\n",
    "# if __name__ == \"__main__\":\n",
    "#     main2()"
   ]
  },
  {
   "cell_type": "code",
   "execution_count": 16,
   "metadata": {},
   "outputs": [
    {
     "ename": "AttributeError",
     "evalue": "'NoneType' object has no attribute 'clear'",
     "output_type": "error",
     "traceback": [
      "\u001b[1;31m---------------------------------------------------------------------------\u001b[0m",
      "\u001b[1;31mAttributeError\u001b[0m                            Traceback (most recent call last)",
      "\u001b[1;32m<ipython-input-16-da2039820f32>\u001b[0m in \u001b[0;36m<module>\u001b[1;34m\u001b[0m\n\u001b[0;32m     11\u001b[0m \u001b[0mmobile\u001b[0m\u001b[1;33m.\u001b[0m\u001b[0msend_keys\u001b[0m\u001b[1;33m(\u001b[0m\u001b[1;34m\"0713166362\"\u001b[0m\u001b[1;33m)\u001b[0m\u001b[1;33m\u001b[0m\u001b[1;33m\u001b[0m\u001b[0m\n\u001b[0;32m     12\u001b[0m \u001b[0mlogin\u001b[0m \u001b[1;33m=\u001b[0m \u001b[0mdriver\u001b[0m\u001b[1;33m.\u001b[0m\u001b[0mfind_element_by_name\u001b[0m\u001b[1;33m(\u001b[0m\u001b[1;34m\"password\"\u001b[0m\u001b[1;33m)\u001b[0m\u001b[1;33m.\u001b[0m\u001b[0msend_keys\u001b[0m\u001b[1;33m(\u001b[0m\u001b[1;34m\"27973762\"\u001b[0m\u001b[1;33m)\u001b[0m\u001b[1;33m\u001b[0m\u001b[1;33m\u001b[0m\u001b[0m\n\u001b[1;32m---> 13\u001b[1;33m \u001b[0mlogin\u001b[0m\u001b[1;33m.\u001b[0m\u001b[0mclear\u001b[0m\u001b[1;33m(\u001b[0m\u001b[1;33m)\u001b[0m\u001b[1;33m\u001b[0m\u001b[1;33m\u001b[0m\u001b[0m\n\u001b[0m\u001b[0;32m     14\u001b[0m \u001b[0mdriver\u001b[0m\u001b[1;33m.\u001b[0m\u001b[0mfind_element_by_xpath\u001b[0m\u001b[1;33m(\u001b[0m\u001b[1;34m\"//button[@type='submit']\"\u001b[0m\u001b[1;33m)\u001b[0m\u001b[1;33m\u001b[0m\u001b[1;33m\u001b[0m\u001b[0m\n\u001b[0;32m     15\u001b[0m \u001b[0mlogin\u001b[0m\u001b[1;33m.\u001b[0m\u001b[0mclick\u001b[0m\u001b[1;33m(\u001b[0m\u001b[1;33m)\u001b[0m\u001b[1;33m\u001b[0m\u001b[1;33m\u001b[0m\u001b[0m\n",
      "\u001b[1;31mAttributeError\u001b[0m: 'NoneType' object has no attribute 'clear'"
     ]
    }
   ],
   "source": [
    "driver = webdriver.Chrome(r\"C:\\chromedriver_win32\\chromedriver.exe\")\n",
    "url = \"https://www.betika.com/lite/login\"\n",
    "# driver.implicitly_wait(30)\n",
    "driver.get(url)\n",
    "#     driver.find_element_by_xpath(\"//a[data-di-id='di-id-23d010d3-ebc66979']\")\n",
    "#     driver.implicitly_wait(3)\n",
    "# driver.find_element_by_xpath(\"//input[@name='mobile']\")\n",
    "driver.implicitly_wait(30)\n",
    "mobile = driver.find_element_by_xpath(\"//input[@name='mobile']\")\n",
    "mobile.clear()\n",
    "mobile.send_keys(\"0713166362\")\n",
    "login = driver.find_element_by_name(\"password\")\n",
    "login.clear()\n",
    "login.send_keys(\"27973762\")\n",
    "driver.find_element_by_xpath(\"//button[@type='submit']\")\n",
    "login.click()\n",
    "newurl = driver.current_url\n",
    "soup = BeautifulSoup(driver.page_source, 'lxml')"
   ]
  },
  {
   "cell_type": "code",
   "execution_count": 18,
   "metadata": {},
   "outputs": [
    {
     "data": {
      "text/plain": [
       "'https://www.betika.com/lite/?ld=true&dlp=eyJldmVudCI6ImxvZ2luIiwiYXBwIjoiTElURSIsInVzZXIiOnsiaWQiOiIxMTc4Nzg3NSIsIm1vYmlsZSI6IjI1NDcxMzE2NjM2MiIsIndhbGxldF9iYWxhbmNlIjoiMTE1LjQ3IiwicG9pbnRzX2JhbGFuY2UiOiIzMjQuMDYiLCJib251c19iYWxhbmNlIjoiMTE1LjAwIn19'"
      ]
     },
     "execution_count": 18,
     "metadata": {},
     "output_type": "execute_result"
    }
   ],
   "source": [
    "driver.current_url"
   ]
  },
  {
   "cell_type": "code",
   "execution_count": null,
   "metadata": {},
   "outputs": [],
   "source": []
  }
 ],
 "metadata": {
  "kernelspec": {
   "display_name": "Python 3",
   "language": "python",
   "name": "python3"
  },
  "language_info": {
   "codemirror_mode": {
    "name": "ipython",
    "version": 3
   },
   "file_extension": ".py",
   "mimetype": "text/x-python",
   "name": "python",
   "nbconvert_exporter": "python",
   "pygments_lexer": "ipython3",
   "version": "3.7.6"
  }
 },
 "nbformat": 4,
 "nbformat_minor": 4
}
