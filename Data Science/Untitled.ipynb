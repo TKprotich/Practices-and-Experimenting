{
 "cells": [
  {
   "cell_type": "code",
   "execution_count": 183,
   "metadata": {},
   "outputs": [],
   "source": [
    "import numpy as np\n",
    "import pandas as pd\n",
    "import matplotlib.pyplot as plt\n",
    "\n",
    "from itertools import chain\n",
    "from collections import Counter\n",
    "\n",
    "import calendar"
   ]
  },
  {
   "cell_type": "code",
   "execution_count": 184,
   "metadata": {},
   "outputs": [],
   "source": [
    "from pptx import Presentation \n",
    "from pptx.chart.data import ChartData\n",
    "from pptx.dml.color import RGBColor\n",
    "from pptx.chart.data import CategoryChartData\n",
    "from pptx.enum.chart import XL_CHART_TYPE\n",
    "from pptx.util import Inches\n",
    "from pptx.enum.chart import XL_LABEL_POSITION\n",
    "from pptx.util import Pt\n",
    "\n",
    "from datetime import datetime\n",
    "import os\n",
    "\n",
    "import pandas as pd\n",
    "\n",
    "\n",
    "from pptx.chart.data import ChartData\n",
    "from pptx.enum.chart import XL_CHART_TYPE"
   ]
  },
  {
   "cell_type": "code",
   "execution_count": 185,
   "metadata": {},
   "outputs": [],
   "source": [
    "def filehandle(path, sheetname):\n",
    "    fh = pd.read_excel(path, sheet_name = sheetname)\n",
    "#     Age\n",
    "    if 'age' in fh.columns.str.lower():\n",
    "        fh['Age'] = fh['AGE'].str.split(' ').str.get(0).astype(int)\n",
    "    # Departements\n",
    "    department = pd.read_excel(r\"C:\\Users\\user\\Downloads\\oeh.medical.physician.xls\")\n",
    "    mydict = dict(zip(department['Name'].str.split(' ').str.get(-1), department['Speciality']))\n",
    "    try:\n",
    "        fh['Department'] = fh['DOCTOR'].str.split().str.get(-1)\n",
    "    except:\n",
    "        fh['Department'] = fh['SURGEON'].str.split().str.get(-1)\n",
    "    fh['Department'] = fh.Department.replace(mydict)\n",
    "    fh['Department'] = fh.Department.replace('Abboud', 'Obstetrics & Gynecology')\n",
    "    # Date handling\n",
    "    fh['DATE'] = pd.to_datetime(fh.DATE)\n",
    "    fh['month'] = fh['DATE'].apply(lambda x : x.month)\n",
    "    fh['year'] = fh['DATE'].apply(lambda x: x.year)\n",
    "    fh['month'] = fh['month'].apply(lambda x : calendar.month_abbr[x])\n",
    "    return fh"
   ]
  },
  {
   "cell_type": "code",
   "execution_count": 186,
   "metadata": {},
   "outputs": [],
   "source": [
    "def counttext(column):\n",
    "    column = pd.Series(column).dropna()\n",
    "    column = list(chain(*column))\n",
    "    counter = Counter(column)\n",
    "    return counter"
   ]
  },
  {
   "cell_type": "code",
   "execution_count": 187,
   "metadata": {},
   "outputs": [],
   "source": [
    "def dgdmydict( fh, analyzecolumn, filtercolumn, filteritem, DELIMETER):\n",
    "    fh1 = fh[fh[filtercolumn] == filteritem]\n",
    "    return counttext(fh1[analyzecolumn].str.lower().str.split(DELIMETER))"
   ]
  },
  {
   "cell_type": "code",
   "execution_count": 203,
   "metadata": {},
   "outputs": [],
   "source": [
    "def analyzenow(fh, analyzecolumn, filtercolumn, filteritem):\n",
    "    if analyzecolumn == 'GENDER':\n",
    "        DELIMETER = \" \"\n",
    "    elif analyzecolumn == 'COMPLAIN':\n",
    "        DELIMETER = \" + \"\n",
    "    elif analyzecolumn == 'IMAGING':\n",
    "        DELIMETER = \",\"\n",
    "    elif analyzecolumn == 'INVESTIGATION':\n",
    "        DELIMETER = \",\"\n",
    "    elif analyzecolumn == 'DOCTOR':\n",
    "        DELIMETER = \"\"\n",
    "    elif analyzecolumn == 'SURGEON':\n",
    "        DELIMETER = \",\"\n",
    "    else:\n",
    "        DELIMETER = \"9999999999999999\"\n",
    "    newfh = fh[analyzecolumn].replace(' ', np.nan)\n",
    "    newfh = fh[analyzecolumn].dropna()\n",
    "    want = dgdmydict(fh, analyzecolumn, filtercolumn, filteritem, DELIMETER)\n",
    "    thedict = dict(want.most_common())\n",
    "    df = pd.DataFrame(want.most_common())\n",
    "    df = df.rename(columns={0 : analyzecolumn, 1 : \"Counts\"})\n",
    "    return df"
   ]
  },
  {
   "cell_type": "markdown",
   "metadata": {},
   "source": [
    "# Generate Presentation"
   ]
  },
  {
   "cell_type": "code",
   "execution_count": 204,
   "metadata": {},
   "outputs": [],
   "source": [
    "def onegraph(fh, prs):\n",
    "    _slide_layout = prs.slide_layouts[5]\n",
    "        ###\n",
    "    slide = prs.slides.add_slide(_slide_layout)\n",
    "    shapes = slide.shapes\n",
    "    title_shape = shapes.title\n",
    "    title_shape.text = fh.columns[0].capitalize() + ' per {}'.format(fh.index.name.capitalize())\n",
    "    print(fh.index.name)\n",
    "    chart_data = CategoryChartData()\n",
    "    chart_data.categories = [l for l in fh.index]\n",
    "    chart_data.add_series('Series 1', (k for k in fh[fh.columns[0]]))\n",
    "    # add chart to slide --------------------\n",
    "    x, y, cx, cy = Inches(1), Inches(3), Inches(11), Inches(4)\n",
    "    graphic_frame = slide.shapes.add_chart(\n",
    "        XL_CHART_TYPE.COLUMN_CLUSTERED, x, y, cx, cy, chart_data\n",
    "    )\n",
    "    chart = graphic_frame.chart\n",
    "    #Categories\n",
    "    category_axis = chart.category_axis\n",
    "    category_axis.tick_labels.font.italic = True\n",
    "    category_axis.tick_labels.font.size = Pt(15)\n",
    "    \n",
    "\n",
    "    chart.chart_title.has_text_frame=True\n",
    "    chart.chart_title.text_frame.text= fh.columns[0] + ' ' + f'{fh.sum().Counts}'\n",
    "    #Value axis\n",
    "    value_axis = chart.value_axis\n",
    "    #value_axis.maximum_scale = 50.0\n",
    "    #Labels\n",
    "    plot = chart.plots[0]\n",
    "    plot.has_data_labels = True\n",
    "    data_labels = plot.data_labels\n",
    "    data_labels.font.size = Pt(17)\n",
    "    data_labels.font.color.rgb = RGBColor(0x0A, 0x42, 0x80)\n",
    "    data_labels.position = XL_LABEL_POSITION.OUTSIDE_END"
   ]
  },
  {
   "cell_type": "code",
   "execution_count": 205,
   "metadata": {},
   "outputs": [],
   "source": [
    "# Loop through rows\n",
    "def presentation(fh, prs):\n",
    "    _slide_layout = prs.slide_layouts[5]\n",
    "    for i in range(len(fh.index)):\n",
    "        slide = prs.slides.add_slide(_slide_layout)\n",
    "        shapes = slide.shapes\n",
    "        title_shape = shapes.title\n",
    "        title_shape.text = '{}'.format(fh.index[i])\n",
    "        \n",
    "        # define chart data ---------------------\n",
    "        chart_data = CategoryChartData()\n",
    "        chart_data.categories = [l for l in fh.columns[1:]]\n",
    "        #chart_data.add_series('Series 1', (k for k in fh[i])) i for i in \n",
    "        chart_data.add_series('Series 1', (k for k in fh.iloc[i, 1:]))\n",
    "        # add chart to slide --------------------\n",
    "        x, y, cx, cy = Inches(1), Inches(3), Inches(11), Inches(4)\n",
    "        graphic_frame = slide.shapes.add_chart(\n",
    "            XL_CHART_TYPE.COLUMN_CLUSTERED, x, y, cx, cy, chart_data\n",
    "        )\n",
    "        #print([l for l in fh.index[1:]])\n",
    "        #print(k for k in fh[i][1:])\n",
    "        chart = graphic_frame.chart\n",
    "        #Categories\n",
    "        category_axis = chart.category_axis\n",
    "        category_axis.tick_labels.font.italic = True\n",
    "        category_axis.tick_labels.font.size = Pt(15)\n",
    "\n",
    "        chart.chart_title.has_text_frame=True\n",
    "        chart.chart_title.text_frame.text= 'Total Patients {}'.format(fh['No/P'][i])\n",
    "        #Value axis\n",
    "        value_axis = chart.value_axis\n",
    "        #value_axis.maximum_scale = 50.0\n",
    "        \n",
    "        #Labels\n",
    "        plot = chart.plots[0]\n",
    "        plot.has_data_labels = True\n",
    "        data_labels = plot.data_labels\n",
    "        data_labels.font.size = Pt(17)\n",
    "        data_labels.font.color.rgb = RGBColor(0x0A, 0x42, 0x80)\n",
    "        data_labels.position = XL_LABEL_POSITION.OUTSIDE_END"
   ]
  },
  {
   "cell_type": "code",
   "execution_count": 227,
   "metadata": {},
   "outputs": [],
   "source": [
    "# OT\n",
    "def ot():\n",
    "    prs = Presentation(r\"C:\\Users\\user\\Documents\\2020-Kalkaal Speciality Hospital\\Monthly Presentations\\OT\\New Microsoft PowerPoint Presentation.pptx\")\n",
    "    PATH = r\"C:\\Users\\user\\Downloads\\Surgery Patient Statistical Report (3).xlsx\"\n",
    "    OT_DATA = filehandle(PATH, \"Report\")\n",
    "    cols = [ 'CASE', 'month', 'SURGEON' ]\n",
    "    for c in cols:\n",
    "        dataframe1 = pd.DataFrame()\n",
    "        for i in OT_DATA[c].unique():\n",
    "            dataframe = analyzenow(OT_DATA, c, c , i)\n",
    "            dataframe['metadata'] = i\n",
    "            dataframe1 = dataframe1.append(dataframe)\n",
    "        lessthanone = pd.DataFrame(dataframe1[dataframe1['Counts'] <= 1])\n",
    "        print(lessthanone.dropna().sum())\n",
    "        grtthanone = dataframe1[dataframe1['Counts'] > 1]\n",
    "        onegraph(dataframe1.set_index(c), prs)\n",
    "    prs.save(r\"C:\\Users\\user\\Documents\\2020-Kalkaal Speciality Hospital\\Monthly Presentations\\OT\\Surgery Patient Statistical Presentation.pptx\")"
   ]
  },
  {
   "cell_type": "code",
   "execution_count": 228,
   "metadata": {},
   "outputs": [],
   "source": [
    "# Lab\n",
    "def lab():\n",
    "    folder = r\"C:\\Users\\user\\Documents\\2020-Kalkaal Speciality Hospital\\Abdullah\\Daily Data\"\n",
    "    now = datetime.now()\n",
    "    today = now.strftime(\"%d %B\")\n",
    "    today = \"31 October Per Doctors\"\n",
    "    columns = [\"DOCTOR\", 'No/P', 'Biochemistry', 'Hormone', 'hematology', 'serology', 'Urine', 'Stool', 'Coag', 'Semen', 'Swab', 'culture']\n",
    "    bigdata = pd.DataFrame(columns)\n",
    "    #search file\n",
    "    rawdata = r\"C:\\Users\\user\\Documents\\2020-Kalkaal Speciality Hospital\\Abdullah\\Daily Data\\31October Per Doctors.xlsx\"\n",
    "    try:\n",
    "        fh = pd.read_excel(rawdata, sheet_name = 'Sheet1 (2)')\n",
    "    except Exception as e:\n",
    "        print(e, \" in \", name)\n",
    "    #data cleaning\n",
    "    fh.drop_duplicates(inplace = True)\n",
    "    fh = fh.drop([1])\n",
    "    fh = fh.dropna()\n",
    "    fh = fh.set_index(\"DOCTOR\")\n",
    "    print(fh)      \n",
    "    fh.drop_duplicates(inplace = True)\n",
    "    #fh = fh.T\n",
    "    prs = Presentation(r\"C:\\Users\\user\\Documents\\2020-Kalkaal Speciality Hospital\\Abdullah\\Presentation1.pptx\")\n",
    "    onegraph(fh, prs)\n",
    "    presentation(fh, prs)\n",
    "    prs.save(\"C:/Users/user/Documents/2020-Kalkaal Speciality Hospital/Abdullah/Presentation {}.pptx\".format(today))\n",
    "    "
   ]
  },
  {
   "cell_type": "code",
   "execution_count": 229,
   "metadata": {},
   "outputs": [
    {
     "name": "stdout",
     "output_type": "stream",
     "text": [
      "CASE        surgical managment of epistaxisamputationcorre...\n",
      "Counts                                                     44\n",
      "metadata    Surgical managment of epistaxisAmputationCorre...\n",
      "dtype: object\n",
      "CASE\n",
      "month       0.0\n",
      "Counts      0.0\n",
      "metadata    0.0\n",
      "dtype: float64\n",
      "month\n",
      "SURGEON     dr. haitham khadour\n",
      "Counts                        1\n",
      "metadata    Dr. Haitham Khadour\n",
      "dtype: object\n",
      "SURGEON\n"
     ]
    }
   ],
   "source": [
    "ot()"
   ]
  },
  {
   "cell_type": "code",
   "execution_count": null,
   "metadata": {},
   "outputs": [],
   "source": []
  },
  {
   "cell_type": "code",
   "execution_count": null,
   "metadata": {},
   "outputs": [],
   "source": []
  },
  {
   "cell_type": "code",
   "execution_count": null,
   "metadata": {},
   "outputs": [],
   "source": []
  }
 ],
 "metadata": {
  "kernelspec": {
   "display_name": "Python 3",
   "language": "python",
   "name": "python3"
  },
  "language_info": {
   "codemirror_mode": {
    "name": "ipython",
    "version": 3
   },
   "file_extension": ".py",
   "mimetype": "text/x-python",
   "name": "python",
   "nbconvert_exporter": "python",
   "pygments_lexer": "ipython3",
   "version": "3.7.6"
  }
 },
 "nbformat": 4,
 "nbformat_minor": 4
}
