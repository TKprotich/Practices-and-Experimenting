{
 "cells": [
  {
   "cell_type": "code",
   "execution_count": 1,
   "metadata": {},
   "outputs": [
    {
     "ename": "SyntaxError",
     "evalue": "invalid syntax (<ipython-input-1-206a28b8717a>, line 6)",
     "output_type": "error",
     "traceback": [
      "\u001b[1;36m  File \u001b[1;32m\"<ipython-input-1-206a28b8717a>\"\u001b[1;36m, line \u001b[1;32m6\u001b[0m\n\u001b[1;33m    C:/Users/user/Documents\\Heaped Documents\\Books-Editing\\My Online Tutorials.docx\u001b[0m\n\u001b[1;37m      ^\u001b[0m\n\u001b[1;31mSyntaxError\u001b[0m\u001b[1;31m:\u001b[0m invalid syntax\n"
     ]
    }
   ],
   "source": [
    "for root, dirs, names in os.walk(\"C:/Users/user/Documents\"):\n",
    "    for name in names:\n",
    "        if name.endswith(\"My Online Tutorials.docx\"):\n",
    "             print(join(root, name))\n",
    "#    ...:\n",
    "# C:/Users/user/Documents\\Heaped Documents\\Books-Editing\\My Online Tutorials.docx"
   ]
  },
  {
   "cell_type": "code",
   "execution_count": null,
   "metadata": {},
   "outputs": [],
   "source": []
  }
 ],
 "metadata": {
  "kernelspec": {
   "display_name": "Python 3",
   "language": "python",
   "name": "python3"
  },
  "language_info": {
   "codemirror_mode": {
    "name": "ipython",
    "version": 3
   },
   "file_extension": ".py",
   "mimetype": "text/x-python",
   "name": "python",
   "nbconvert_exporter": "python",
   "pygments_lexer": "ipython3",
   "version": "3.7.6"
  }
 },
 "nbformat": 4,
 "nbformat_minor": 4
}
